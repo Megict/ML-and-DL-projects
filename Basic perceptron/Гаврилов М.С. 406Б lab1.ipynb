{
 "cells": [
  {
   "cell_type": "markdown",
   "id": "75b5996c",
   "metadata": {},
   "source": [
    "## Лабортаторная работа №1"
   ]
  },
  {
   "cell_type": "markdown",
   "id": "910267e1",
   "metadata": {},
   "source": [
    "### По курсу \"нейроинформатика\""
   ]
  },
  {
   "cell_type": "markdown",
   "id": "cf78e31e",
   "metadata": {},
   "source": [
    "студент: Гаврилов М.С.  \n",
    "группа: М8О-406Б-19  "
   ]
  },
  {
   "cell_type": "markdown",
   "id": "1eb8e8d2",
   "metadata": {},
   "source": [
    "##### Цель работы:\n",
    "Исследование свойств персептрона Розенблантта и его применение для решщения задачи распознавания образов"
   ]
  },
  {
   "cell_type": "markdown",
   "id": "d94d29ac",
   "metadata": {},
   "source": [
    "  "
   ]
  },
  {
   "cell_type": "markdown",
   "id": "6d97f02b",
   "metadata": {},
   "source": [
    "  "
   ]
  },
  {
   "cell_type": "code",
   "execution_count": 2,
   "id": "b81de0ca",
   "metadata": {},
   "outputs": [],
   "source": [
    "import numpy as np\n",
    "import pylab\n",
    "\n",
    "import torch\n",
    "import torch.nn as nn"
   ]
  },
  {
   "cell_type": "markdown",
   "id": "7d9cc0ee",
   "metadata": {},
   "source": [
    "### Задание 1."
   ]
  },
  {
   "cell_type": "markdown",
   "id": "e041fb87",
   "metadata": {},
   "source": [
    "Построить и обучить сеть, которая будет правильно относить точки к двум классам.   \n",
    "Отобразить дискриминационную линию и проверить качество обучения."
   ]
  },
  {
   "cell_type": "markdown",
   "id": "98836ec1",
   "metadata": {},
   "source": [
    "Используем такую модель:"
   ]
  },
  {
   "cell_type": "code",
   "execution_count": 2,
   "id": "dce9b2a3",
   "metadata": {},
   "outputs": [],
   "source": [
    "model = torch.nn.Sequential(\n",
    "    nn.Linear(2,1),\n",
    "    nn.Sigmoid(),\n",
    "    nn.Flatten(0,1)\n",
    ")"
   ]
  },
  {
   "cell_type": "markdown",
   "id": "b025c17b",
   "metadata": {},
   "source": [
    "2 входных канала потому что две координаты, 1 выходной предсказывает класс, 1 - первый класс, 0 - нулевой  \n",
    "Порог будет равен 0.5  \n",
    "В конце применяется flatten, чтобы бинарная кросс-энтропия работала"
   ]
  },
  {
   "cell_type": "code",
   "execution_count": 3,
   "id": "49960666",
   "metadata": {},
   "outputs": [
    {
     "name": "stdout",
     "output_type": "stream",
     "text": [
      "Parameter containing:\n",
      "tensor([[0.0971, 0.0314]], requires_grad=True)\n",
      "Parameter containing:\n",
      "tensor([-0.5362], requires_grad=True)\n"
     ]
    }
   ],
   "source": [
    "for a in model.parameters():\n",
    "    print(a)"
   ]
  },
  {
   "cell_type": "markdown",
   "id": "2015de45",
   "metadata": {},
   "source": [
    "Видим параметры, которые можно будет использовать для построения дискриминанты"
   ]
  },
  {
   "cell_type": "markdown",
   "id": "872e94e4",
   "metadata": {},
   "source": [
    " "
   ]
  },
  {
   "cell_type": "markdown",
   "id": "30cf78a5",
   "metadata": {},
   "source": [
    "обучающая функция:"
   ]
  },
  {
   "cell_type": "code",
   "execution_count": 4,
   "id": "f7b923df",
   "metadata": {},
   "outputs": [],
   "source": [
    "def accuracy_bin(testRS,testLB):\n",
    "    return ((model(larrXX).detach().numpy() > 0.5).reshape(larrLB.shape) == np.array(larrLB.numpy(),dtype = np.int32)).mean()\n",
    "\n",
    "def accuracy_mult(testRS,testLB):\n",
    "    return (np.argmax(testRS,axis = 1) == testLB.numpy()).mean()\n",
    "\n",
    "def train(net,trainXX,trainLB,n_epochs,lr, #функция общая на оба задания, меняются применяемые функции оценки точности и функции потерь\n",
    "         optimiser = torch.optim.SGD,\n",
    "         criterion = torch.nn.functional.binary_cross_entropy,\n",
    "         accuracy = accuracy_mult\n",
    "         ):\n",
    "    #функция, производящая обучение сети\n",
    "    #так как весь датасет - 6 элементов, разбиение на батчи не делается\n",
    "    \n",
    "    optim = optimiser(model.parameters(),lr=lr)\n",
    "    \n",
    "    arr = []\n",
    "    for i in range(n_epochs):\n",
    "        optim.zero_grad()\n",
    "        loss = criterion(model(trainXX),trainLB)\n",
    "        loss.backward()\n",
    "        optim.step()\n",
    "        \n",
    "        #трэйсинг обучения\n",
    "        \n",
    "        arr.append([i,\n",
    "                    loss.detach().numpy(), #значение ф-и потерь\n",
    "                    accuracy(model(trainXX).detach().numpy(),trainLB)]) #среднее количество совпадений в предсказаниях (точность)\n",
    "                    \n",
    "    return np.array(arr)"
   ]
  },
  {
   "cell_type": "code",
   "execution_count": 5,
   "id": "a8c69769",
   "metadata": {},
   "outputs": [],
   "source": [
    "def plot_learning(arr):\n",
    "    pylab.xlabel(\"epochs\",color = \"grey\")\n",
    "    pylab.ylabel(\"loss\",color = \"grey\")\n",
    "    pylab.plot(arr[:,0],arr[:,1])\n",
    "    pylab.show()\n",
    "\n",
    "    pylab.axis([0,arr.shape[0] - 1,0,1])\n",
    "    pylab.xlabel(\"epochs\",color = \"grey\")\n",
    "    pylab.ylabel(\"accuracy\",color = \"grey\")\n",
    "    pylab.plot(arr[:,0],arr[:,2])\n",
    "    pylab.show()"
   ]
  },
  {
   "cell_type": "code",
   "execution_count": 6,
   "id": "03ad7f7a",
   "metadata": {},
   "outputs": [],
   "source": [
    "larrXX = torch.tensor([(-3.9,-0.1),(4.5,-1.6),(0.8,-2.8),(2.5,-2.5),(0,1.9),(3.9,4.5)],dtype=torch.float32)\n",
    "larrLB = torch.tensor([0,1,0,0,0,1],dtype=torch.float)"
   ]
  },
  {
   "cell_type": "markdown",
   "id": "cd693ad1",
   "metadata": {},
   "source": [
    "##### Обучнеине модели"
   ]
  },
  {
   "cell_type": "code",
   "execution_count": 19,
   "id": "7da008b2",
   "metadata": {},
   "outputs": [
    {
     "name": "stdout",
     "output_type": "stream",
     "text": [
      "accuracy: 1.0\n"
     ]
    }
   ],
   "source": [
    "model = torch.nn.Sequential(\n",
    "    nn.Linear(2,1),\n",
    "    nn.Sigmoid(),\n",
    "    nn.Flatten(0,1)\n",
    ")\n",
    "\n",
    "arr = train(model,larrXX,larrLB,100,0.1,accuracy = accuracy_bin)\n",
    "print(\"accuracy: {}\".format(accuracy_bin(model(larrXX).detach().numpy(),larrLB)))"
   ]
  },
  {
   "cell_type": "markdown",
   "id": "4e747935",
   "metadata": {},
   "source": [
    "Кривые обучения:"
   ]
  },
  {
   "cell_type": "code",
   "execution_count": 20,
   "id": "087cfdb4",
   "metadata": {},
   "outputs": [
    {
     "data": {
      "image/png": "[encoded data removed]",
      "text/plain": [
       "<Figure size 432x288 with 1 Axes>"
      ]
     },
     "metadata": {
      "needs_background": "light"
     },
     "output_type": "display_data"
    },
    {
     "data": {
      "image/png": "[encoded data removed]",
      "text/plain": [
       "<Figure size 432x288 with 1 Axes>"
      ]
     },
     "metadata": {
      "needs_background": "light"
     },
     "output_type": "display_data"
    }
   ],
   "source": [
    "plot_learning(arr)"
   ]
  },
  {
   "cell_type": "code",
   "execution_count": 21,
   "id": "a1af7741",
   "metadata": {},
   "outputs": [
    {
     "data": {
      "text/plain": [
       "tensor([0.0156, 0.7802, 0.1092, 0.3352, 0.4476, 0.9827],\n",
       "       grad_fn=<ReshapeAliasBackward0>)"
      ]
     },
     "execution_count": 21,
     "metadata": {},
     "output_type": "execute_result"
    }
   ],
   "source": [
    "model(larrXX)"
   ]
  },
  {
   "cell_type": "markdown",
   "id": "80a57ae2",
   "metadata": {},
   "source": [
    "##### Построение дискриминанты"
   ]
  },
  {
   "cell_type": "code",
   "execution_count": 22,
   "id": "3288c3dd",
   "metadata": {},
   "outputs": [
    {
     "name": "stdout",
     "output_type": "stream",
     "text": [
      "Parameter containing:\n",
      "tensor([[0.7385, 0.5274]], requires_grad=True)\n",
      "Parameter containing:\n",
      "tensor([-1.2126], requires_grad=True)\n"
     ]
    }
   ],
   "source": [
    "for a in model.parameters():\n",
    "    print(a)"
   ]
  },
  {
   "cell_type": "markdown",
   "id": "5b66229f",
   "metadata": {},
   "source": [
    "извлечение параметров"
   ]
  },
  {
   "cell_type": "code",
   "execution_count": 23,
   "id": "8e5d4fe3",
   "metadata": {},
   "outputs": [
    {
     "name": "stdout",
     "output_type": "stream",
     "text": [
      "[0.73852354, 0.5274134, -1.2126034]\n"
     ]
    }
   ],
   "source": [
    "params = []\n",
    "for a in model.parameters():\n",
    "    b = a.detach().numpy()\n",
    "    params.append(b[0])\n",
    "    \n",
    "w = [params[0][0],\n",
    "     params[0][1],\n",
    "     params[1]]\n",
    "\n",
    "print(w)"
   ]
  },
  {
   "cell_type": "code",
   "execution_count": 24,
   "id": "166d4c80",
   "metadata": {},
   "outputs": [],
   "source": [
    "lb0 = np.array([[larrXX[i][0],larrXX[i][1]] for i in range(len(larrXX)) \n",
    " if larrLB[i] == 0])\n",
    "lb1 = np.array([[larrXX[i][0],larrXX[i][1]] for i in range(len(larrXX)) \n",
    " if larrLB[i] == 1])"
   ]
  },
  {
   "cell_type": "code",
   "execution_count": 25,
   "id": "f2475818",
   "metadata": {},
   "outputs": [
    {
     "data": {
      "image/png": "[encoded data removed]",
      "text/plain": [
       "<Figure size 432x288 with 1 Axes>"
      ]
     },
     "metadata": {
      "needs_background": "light"
     },
     "output_type": "display_data"
    }
   ],
   "source": [
    "pylab.plot(lb0[:,0],lb0[:,1],'bo' )\n",
    "pylab.plot(lb1[:,0],lb1[:,1],'ro' )\n",
    "pylab.show()"
   ]
  },
  {
   "cell_type": "code",
   "execution_count": 26,
   "id": "3acf097a",
   "metadata": {},
   "outputs": [],
   "source": [
    "def plot_boundary(positive_examples, negative_examples, weights):\n",
    "    upper = 0\n",
    "    lower = 0\n",
    "    for a in positive_examples:\n",
    "        if a[0] > upper:\n",
    "            upper = a[0] + 1\n",
    "        if a[1] > upper:\n",
    "            upper = a[1] + 1\n",
    "    \n",
    "    for a in negative_examples:\n",
    "        if a[0] > upper:\n",
    "            upper = a[0] + 1\n",
    "        if a[1] > upper:\n",
    "            upper = a[1] + 1\n",
    "            \n",
    "    \n",
    "    for a in positive_examples:\n",
    "        if a[0] < lower:\n",
    "            lower = a[0] - 1\n",
    "        if a[1] < lower:\n",
    "            lower = a[1] - 1\n",
    "    \n",
    "    for a in negative_examples:\n",
    "        if a[0] < lower:\n",
    "            lower = a[0] - 1\n",
    "        if a[1] < lower:\n",
    "            lower = a[1] - 1\n",
    "            \n",
    "\n",
    "    x = np.array([lower, upper], dtype='float32')\n",
    "    y = -(weights[0] * x + weights[2])/weights[1]\n",
    "\n",
    "    pylab.axis([lower, upper,lower, upper])                     \n",
    "    pylab.plot(positive_examples[:,0], positive_examples[:,1], 'bo')\n",
    "    pylab.plot(negative_examples[:,0], negative_examples[:,1], 'ro')\n",
    "    pylab.plot(x, y, 'g', linewidth=2.0)\n",
    "    pylab.show()"
   ]
  },
  {
   "cell_type": "code",
   "execution_count": 27,
   "id": "c74f56cf",
   "metadata": {},
   "outputs": [
    {
     "data": {
      "image/png": "[encoded data removed]",
      "text/plain": [
       "<Figure size 432x288 with 1 Axes>"
      ]
     },
     "metadata": {
      "needs_background": "light"
     },
     "output_type": "display_data"
    }
   ],
   "source": [
    "plot_boundary(lb0,lb1,w)"
   ]
  },
  {
   "cell_type": "markdown",
   "id": "af63c4db",
   "metadata": {},
   "source": [
    "###### Линейно неразделимая выборка"
   ]
  },
  {
   "cell_type": "markdown",
   "id": "e2564186",
   "metadata": {},
   "source": [
    "Добавим один элемент, относящийся к классу 1, который нельзя отделить линией от класса 0"
   ]
  },
  {
   "cell_type": "code",
   "execution_count": 63,
   "id": "edc522dc",
   "metadata": {},
   "outputs": [],
   "source": [
    "larrXX = torch.tensor([(-3.9,-0.1),(4.5,-1.6),(0.8,-2.8),(2.5,-2.5),(0,1.9),(3.9,4.5),(0,0)],dtype=torch.float32)\n",
    "larrLB = torch.tensor([0,1,0,0,0,1,1],dtype=torch.float)"
   ]
  },
  {
   "cell_type": "code",
   "execution_count": 65,
   "id": "ca2e2b1d",
   "metadata": {},
   "outputs": [],
   "source": [
    "lb0 = np.array([[larrXX[i][0],larrXX[i][1]] for i in range(len(larrXX)) \n",
    " if larrLB[i] == 0])\n",
    "lb1 = np.array([[larrXX[i][0],larrXX[i][1]] for i in range(len(larrXX)) \n",
    " if larrLB[i] == 1])"
   ]
  },
  {
   "cell_type": "code",
   "execution_count": 66,
   "id": "fe48cb23",
   "metadata": {},
   "outputs": [
    {
     "data": {
      "image/png": "[encoded data removed]",
      "text/plain": [
       "<Figure size 432x288 with 1 Axes>"
      ]
     },
     "metadata": {
      "needs_background": "light"
     },
     "output_type": "display_data"
    }
   ],
   "source": [
    "pylab.plot(lb0[:,0],lb0[:,1],'bo' )\n",
    "pylab.plot(lb1[:,0],lb1[:,1],'ro' )\n",
    "pylab.show()"
   ]
  },
  {
   "cell_type": "code",
   "execution_count": 77,
   "id": "fe6e9a94",
   "metadata": {},
   "outputs": [
    {
     "name": "stdout",
     "output_type": "stream",
     "text": [
      "accuracy: 0.7142857142857143\n"
     ]
    }
   ],
   "source": [
    "model = torch.nn.Sequential(\n",
    "    nn.Linear(2,1),\n",
    "    nn.Sigmoid(),\n",
    "    nn.Flatten(0,1)\n",
    ")\n",
    "\n",
    "arr = train(model,larrXX,larrLB,100,0.1,accuracy = accuracy_bin)\n",
    "print(\"accuracy: {}\".format(accuracy_bin(model(larrXX).detach().numpy(),larrLB)))"
   ]
  },
  {
   "cell_type": "code",
   "execution_count": 78,
   "id": "0a11f428",
   "metadata": {},
   "outputs": [
    {
     "data": {
      "image/png": "[encoded data removed]",
      "text/plain": [
       "<Figure size 432x288 with 1 Axes>"
      ]
     },
     "metadata": {
      "needs_background": "light"
     },
     "output_type": "display_data"
    },
    {
     "data": {
      "image/png": "[encoded data removed]",
      "text/plain": [
       "<Figure size 432x288 with 1 Axes>"
      ]
     },
     "metadata": {
      "needs_background": "light"
     },
     "output_type": "display_data"
    }
   ],
   "source": [
    "plot_learning(arr)"
   ]
  },
  {
   "cell_type": "code",
   "execution_count": 79,
   "id": "ca21040f",
   "metadata": {},
   "outputs": [
    {
     "data": {
      "image/png": "[encoded data removed]",
      "text/plain": [
       "<Figure size 432x288 with 1 Axes>"
      ]
     },
     "metadata": {
      "needs_background": "light"
     },
     "output_type": "display_data"
    }
   ],
   "source": [
    "params = []\n",
    "for a in model.parameters():\n",
    "    b = a.detach().numpy()\n",
    "    params.append(b[0])\n",
    "    \n",
    "w = [params[0][0],\n",
    "     params[0][1],\n",
    "     params[1]]\n",
    "\n",
    "plot_boundary(lb0,lb1,w)"
   ]
  },
  {
   "cell_type": "markdown",
   "id": "7bcc0af8",
   "metadata": {},
   "source": [
    "  "
   ]
  },
  {
   "cell_type": "markdown",
   "id": "e45e39e1",
   "metadata": {},
   "source": [
    "### Задание 2."
   ]
  },
  {
   "cell_type": "markdown",
   "id": "b78cce27",
   "metadata": {},
   "source": [
    "Построить и обучить сеть, которая будет правильно относить точки к четырем классам.   \n",
    "Отобразить дискриминантную линию и проверить качество обучения."
   ]
  },
  {
   "cell_type": "markdown",
   "id": "60608140",
   "metadata": {},
   "source": [
    "В этом задании вывод модели - это массив из четырех чисел, каждое из которых - вероятность отношения классифициручемого объекта к соответствующему классу."
   ]
  },
  {
   "cell_type": "code",
   "execution_count": 62,
   "id": "2fbe5717",
   "metadata": {},
   "outputs": [],
   "source": [
    "larrXX = torch.tensor([(3.9,-4.1),(-4.6,0.5),(2.7,-1.9),(-3.3,-1.7),(-2.9,0.1),(4,1.2),(-4,-1.1),(-4.5,0)],dtype=torch.float32)\n",
    "larrLB = torch.tensor([1,2,1,0,2,3,0,2],dtype=torch.long)"
   ]
  },
  {
   "cell_type": "markdown",
   "id": "9f4cd37a",
   "metadata": {},
   "source": [
    "##### Обучнеине модели"
   ]
  },
  {
   "cell_type": "code",
   "execution_count": 63,
   "id": "a0fd3a2c",
   "metadata": {},
   "outputs": [
    {
     "name": "stdout",
     "output_type": "stream",
     "text": [
      "1.0\n"
     ]
    }
   ],
   "source": [
    "model = torch.nn.Sequential(\n",
    "    nn.Linear(2,4),\n",
    "    nn.Softmax(dim = 1)\n",
    ")\n",
    "\n",
    "arr = train(model,larrXX,larrLB,500,0.1,\n",
    "           criterion = torch.nn.CrossEntropyLoss(),accuracy = accuracy_mult)\n",
    "print(accuracy_mult(model(larrXX).detach().numpy(),larrLB))"
   ]
  },
  {
   "cell_type": "markdown",
   "id": "8a35c602",
   "metadata": {},
   "source": [
    "Кривые обучения:"
   ]
  },
  {
   "cell_type": "code",
   "execution_count": 64,
   "id": "f448d351",
   "metadata": {},
   "outputs": [
    {
     "data": {
      "image/png": "[encoded data removed]",
      "text/plain": [
       "<Figure size 432x288 with 1 Axes>"
      ]
     },
     "metadata": {
      "needs_background": "light"
     },
     "output_type": "display_data"
    },
    {
     "data": {
      "image/png": "[encoded data removed]",
      "text/plain": [
       "<Figure size 432x288 with 1 Axes>"
      ]
     },
     "metadata": {
      "needs_background": "light"
     },
     "output_type": "display_data"
    }
   ],
   "source": [
    "plot_learning(arr)"
   ]
  },
  {
   "cell_type": "code",
   "execution_count": 85,
   "id": "3e7c3b12",
   "metadata": {},
   "outputs": [
    {
     "data": {
      "text/plain": [
       "tensor([[9.9797e-03, 9.8985e-01, 6.6535e-09, 1.7059e-04],\n",
       "        [2.2731e-02, 6.2182e-05, 9.7713e-01, 7.3269e-05],\n",
       "        [2.2255e-02, 9.5816e-01, 1.9382e-05, 1.9570e-02],\n",
       "        [9.6276e-01, 7.0221e-03, 3.0146e-02, 7.1173e-05],\n",
       "        [1.5090e-01, 4.1873e-03, 8.4216e-01, 2.7549e-03],\n",
       "        [3.0350e-05, 3.1867e-02, 1.4683e-04, 9.6796e-01],\n",
       "        [7.8728e-01, 2.6528e-03, 2.0998e-01, 9.2034e-05],\n",
       "        [9.8276e-02, 2.5250e-04, 9.0137e-01, 9.7220e-05]],\n",
       "       grad_fn=<SoftmaxBackward0>)"
      ]
     },
     "execution_count": 85,
     "metadata": {},
     "output_type": "execute_result"
    }
   ],
   "source": [
    "model(larrXX)"
   ]
  },
  {
   "cell_type": "code",
   "execution_count": 98,
   "id": "c5aca174",
   "metadata": {},
   "outputs": [
    {
     "data": {
      "text/plain": [
       "array([0.99999994, 0.99999994, 1.        , 1.        , 1.        ,\n",
       "       1.        , 0.99999994, 0.99999994], dtype=float32)"
      ]
     },
     "execution_count": 98,
     "metadata": {},
     "output_type": "execute_result"
    }
   ],
   "source": [
    "np.sum(model(larrXX).detach().numpy(),axis = 1)"
   ]
  },
  {
   "cell_type": "markdown",
   "id": "c8844d2b",
   "metadata": {},
   "source": [
    "Отображение точек:"
   ]
  },
  {
   "cell_type": "code",
   "execution_count": 65,
   "id": "e3a20d54",
   "metadata": {},
   "outputs": [],
   "source": [
    "lb0 = np.array([[larrXX[i][0],larrXX[i][1]] for i in range(len(larrXX)) \n",
    " if larrLB[i] == 0])\n",
    "lb1 = np.array([[larrXX[i][0],larrXX[i][1]] for i in range(len(larrXX)) \n",
    " if larrLB[i] == 1])\n",
    "lb2 = np.array([[larrXX[i][0],larrXX[i][1]] for i in range(len(larrXX)) \n",
    " if larrLB[i] == 2])\n",
    "lb3 = np.array([[larrXX[i][0],larrXX[i][1]] for i in range(len(larrXX)) \n",
    " if larrLB[i] == 3])"
   ]
  },
  {
   "cell_type": "code",
   "execution_count": 66,
   "id": "32824d5b",
   "metadata": {},
   "outputs": [
    {
     "data": {
      "image/png": "[encoded data removed]",
      "text/plain": [
       "<Figure size 432x288 with 1 Axes>"
      ]
     },
     "metadata": {
      "needs_background": "light"
     },
     "output_type": "display_data"
    }
   ],
   "source": [
    "pylab.plot(lb0[:,0],lb0[:,1],'bo' )\n",
    "pylab.plot(lb1[:,0],lb1[:,1],'ro' )\n",
    "pylab.plot(lb2[:,0],lb2[:,1],'mo' )\n",
    "pylab.plot(lb3[:,0],lb3[:,1],'go' )\n",
    "pylab.show()"
   ]
  },
  {
   "cell_type": "code",
   "execution_count": 67,
   "id": "69ea10b7",
   "metadata": {},
   "outputs": [
    {
     "name": "stdout",
     "output_type": "stream",
     "text": [
      "Parameter containing:\n",
      "tensor([[-0.8211, -1.4879],\n",
      "        [ 0.5755, -1.3325],\n",
      "        [-1.2452,  2.0164],\n",
      "        [ 1.0435,  0.6707]], requires_grad=True)\n",
      "Parameter containing:\n",
      "tensor([ 0.0690,  0.5210,  0.5797, -0.4973], requires_grad=True)\n"
     ]
    }
   ],
   "source": [
    "for a in model.parameters():\n",
    "    print(a)"
   ]
  },
  {
   "cell_type": "code",
   "execution_count": 68,
   "id": "370ba598",
   "metadata": {},
   "outputs": [],
   "source": [
    "params = []\n",
    "w = []\n",
    "\n",
    "for a in model.parameters():\n",
    "    b = a.detach().numpy()\n",
    "    params.append(b)\n",
    "    \n",
    "w.append(\n",
    "    [params[0][0][0],\n",
    "     params[0][0][1],\n",
    "     params[1][0]])\n",
    "w.append(\n",
    "    [params[0][1][0],\n",
    "     params[0][1][1],\n",
    "     params[1][1]])\n",
    "w.append(\n",
    "    [params[0][2][0],\n",
    "     params[0][2][1],\n",
    "     params[1][2]])\n",
    "w.append(\n",
    "    [params[0][3][0],\n",
    "     params[0][3][1],\n",
    "     params[1][3]])"
   ]
  },
  {
   "cell_type": "code",
   "execution_count": 69,
   "id": "965df2d5",
   "metadata": {},
   "outputs": [],
   "source": [
    "def add_boundary(weights,color = \"green\"):            \n",
    "\n",
    "    x = np.array([-5, 5], dtype='float32')\n",
    "    y = -(weights[0] * x + weights[2])/weights[1]\n",
    "\n",
    "    pylab.plot(x, y, linewidth=2.0,color = color)"
   ]
  },
  {
   "cell_type": "code",
   "execution_count": 70,
   "id": "3b6efc4f",
   "metadata": {},
   "outputs": [
    {
     "data": {
      "image/png": "[encoded data removed]",
      "text/plain": [
       "<Figure size 432x288 with 1 Axes>"
      ]
     },
     "metadata": {
      "needs_background": "light"
     },
     "output_type": "display_data"
    }
   ],
   "source": [
    "pylab.plot(lb0[:,0],lb0[:,1],'bo' )\n",
    "pylab.plot(lb1[:,0],lb1[:,1],'ro' )\n",
    "pylab.plot(lb2[:,0],lb2[:,1],'mo' )\n",
    "pylab.plot(lb3[:,0],lb3[:,1],'go' )\n",
    "\n",
    "add_boundary(w[0],\"blue\")\n",
    "add_boundary(w[1],\"red\")\n",
    "add_boundary(w[2],\"magenta\")\n",
    "add_boundary(w[3],\"green\")\n",
    "\n",
    "pylab.show()"
   ]
  },
  {
   "cell_type": "markdown",
   "id": "2a95b52a",
   "metadata": {},
   "source": [
    "  "
   ]
  },
  {
   "cell_type": "markdown",
   "id": "b7620418",
   "metadata": {},
   "source": [
    "  "
   ]
  },
  {
   "cell_type": "markdown",
   "id": "3517470d",
   "metadata": {},
   "source": [
    "### Вывод"
   ]
  },
  {
   "cell_type": "markdown",
   "id": "22677c0a",
   "metadata": {},
   "source": [
    "В ходе выполнения этой лабораторной работы я ознакомился с принципами работы персептрона и получил опыт в реализации бинарной и многоклассовой классификации. Возможность неспешно поработать с простыми нейронными сетями позволила мне на практике понять, как на обучаемость сети влияет функция активации."
   ]
  },
  {
   "cell_type": "markdown",
   "id": "e9e19154",
   "metadata": {},
   "source": [
    "  "
   ]
  }
 ],
 "metadata": {
  "kernelspec": {
   "display_name": "Python 3 (ipykernel)",
   "language": "python",
   "name": "python3"
  },
  "language_info": {
   "codemirror_mode": {
    "name": "ipython",
    "version": 3
   },
   "file_extension": ".py",
   "mimetype": "text/x-python",
   "name": "python",
   "nbconvert_exporter": "python",
   "pygments_lexer": "ipython3",
   "version": "3.10.4"
  }
 },
 "nbformat": 4,
 "nbformat_minor": 5
}
